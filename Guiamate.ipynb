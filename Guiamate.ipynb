{
  "nbformat": 4,
  "nbformat_minor": 0,
  "metadata": {
    "colab": {
      "provenance": [],
      "authorship_tag": "ABX9TyOUnkihPF5pqcKQ0t2h80Ax",
      "include_colab_link": true
    },
    "kernelspec": {
      "name": "python3",
      "display_name": "Python 3"
    },
    "language_info": {
      "name": "python"
    }
  },
  "cells": [
    {
      "cell_type": "markdown",
      "metadata": {
        "id": "view-in-github",
        "colab_type": "text"
      },
      "source": [
        "<a href=\"https://colab.research.google.com/github/Rom4rgc/Tareas-Mate/blob/main/Guiamate.ipynb\" target=\"_parent\"><img src=\"https://colab.research.google.com/assets/colab-badge.svg\" alt=\"Open In Colab\"/></a>"
      ]
    },
    {
      "cell_type": "code",
      "execution_count": 2,
      "metadata": {
        "colab": {
          "base_uri": "https://localhost:8080/"
        },
        "id": "7m9r6vEYcupe",
        "outputId": "9c2f7c6e-4d6d-4fd1-f17c-74bdea677277"
      },
      "outputs": [
        {
          "output_type": "stream",
          "name": "stdout",
          "text": [
            "A + B =\n",
            " [[ 4 11 16]\n",
            " [ 7 13 19]]\n",
            "E + D =\n",
            " [[1.5+0.5j 2.5+0.5j]\n",
            " [4.5+0.5j 7.5-0.5j]]\n",
            "AC =\n",
            " [[ 53 158]\n",
            " [ 61 189]]\n",
            "CE =\n",
            " [[29 52]\n",
            " [34 62]\n",
            " [40 75]]\n",
            "CB =\n",
            " [[ 15  39  70]\n",
            " [ 18  48  86]\n",
            " [ 22  61 109]]\n"
          ]
        }
      ],
      "source": [
        "import numpy as np\n",
        "\n",
        "# matrices\n",
        "A = np.array([[3, 7, 9], [5, 8, 10]])\n",
        "B = np.array([[1, 4, 7], [2, 5, 9]])\n",
        "C = np.array([[1, 7], [2, 8], [4, 9]])\n",
        "D = np.array([[1 + 1j, -1 + 1j], [1 + 1j, 1 - 1j]])\n",
        "E = np.array([[1, 3], [4, 7]])\n",
        "F = np.array([[0, 0, 0], [0, 1 - 1j, -1 - 1j], [0, -1 + 1j, 2]])\n",
        "G = np.array([[np.sqrt(1/2), np.sqrt(1/3), -np.sqrt(1/6)],\n",
        "              [-np.sqrt(1/2), np.sqrt(1/3), -np.sqrt(1/6)],\n",
        "              [0, np.sqrt(2/6), np.sqrt(1/3)]])\n",
        "\n",
        "# Operación 1: Suma A + B\n",
        "A_plus_B = A + B\n",
        "print(\"A + B =\\n\", A_plus_B)\n",
        "\n",
        "# Operación 2: Suma E + D\n",
        "D_calculated = np.array([[ (1 + 1j)/2, (-1 + 1j)/2],\n",
        "                         [ (1 + 1j)/2, (1 - 1j)/2]])\n",
        "E_plus_D = E + D_calculated\n",
        "print(\"E + D =\\n\", E_plus_D)\n",
        "\n",
        "# Operación 3: Multiplicación AC\n",
        "AC = np.dot(A, C)\n",
        "print(\"AC =\\n\", AC)\n",
        "\n",
        "# Operación 4: Multiplicación CE\n",
        "CE = np.dot(C, E)\n",
        "print(\"CE =\\n\", CE)\n",
        "\n",
        "# Operación 5: Multiplicación CB\n",
        "CB = np.dot(C, B)\n",
        "print(\"CB =\\n\", CB)\n"
      ]
    }
  ]
}